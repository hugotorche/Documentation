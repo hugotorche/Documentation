{
 "cells": [
  {
   "cell_type": "markdown",
   "metadata": {},
   "source": [
    "# **DataFrame Notice**"
   ]
  },
  {
   "cell_type": "markdown",
   "metadata": {},
   "source": [
    "This Notice relies on the serie of **Pandas Tutorials** by **Corey Schafer**: https://www.youtube.com/playlist?list=PL-osiE80TeTsWmV9i9c58mdDCSskIFdDS\n",
    "\n",
    "**Other Resources**: \n",
    "\n",
    "*       **Udacity**: tons of courses and resources \n",
    "*       **YouTube channels**: Google Developers, Thenewboston, Derek Banas, Computerphile, Eli the computer guy, LearnCode.Academy, LevelUp Tuts, DevTips, realcsstricks, phpacademy, sentdex, NewCircle Training, NewtDay Video, PyCon conferences \n",
    "*       **Twitter accounts**: Guido Van Rossum, Raymondh, David Beazley\n",
    "*       **Reddit**: python programming subreddit, etc.  \n",
    "*       **GitHub**: free programming books "
   ]
  },
  {
   "cell_type": "markdown",
   "metadata": {},
   "source": [
    "## **1. Getting Started**"
   ]
  },
  {
   "cell_type": "code",
   "execution_count": null,
   "metadata": {},
   "outputs": [],
   "source": [
    "# import pandas library\n",
    "import pandas as pd"
   ]
  },
  {
   "cell_type": "markdown",
   "metadata": {},
   "source": [
    "### **1.1. Read a Table**"
   ]
  },
  {
   "cell_type": "code",
   "execution_count": null,
   "metadata": {},
   "outputs": [],
   "source": [
    "# csv\n",
    "df = pd.read_csv(\"xxx.csv\") # you can specify the index column with index_col = 'xxx'\n",
    "\n",
    "# excel\n",
    "df = pd.read_excel(\"xxx.xlsx\")"
   ]
  },
  {
   "cell_type": "markdown",
   "metadata": {},
   "source": [
    "### **1.2. Show the DataFrame**"
   ]
  },
  {
   "cell_type": "code",
   "execution_count": null,
   "metadata": {},
   "outputs": [],
   "source": [
    "# top 5 rows\n",
    "df.head()\n",
    "\n",
    "# bottom 5 rows\n",
    "df.tail()"
   ]
  },
  {
   "cell_type": "markdown",
   "metadata": {},
   "source": [
    "### **1.4. Set DataFrame options**"
   ]
  },
  {
   "cell_type": "code",
   "execution_count": null,
   "metadata": {},
   "outputs": [],
   "source": [
    "pd.set_option('display.max_columns',85) # to display all the columns\n",
    "pd.set_option('display.max_rows',85) # to display all the rows"
   ]
  },
  {
   "cell_type": "markdown",
   "metadata": {},
   "source": [
    "### **1.5. Display DataFrame metadata**"
   ]
  },
  {
   "cell_type": "code",
   "execution_count": null,
   "metadata": {},
   "outputs": [],
   "source": [
    "# number of columns \n",
    "len(df.columns)\n",
    "\n",
    "# shape\n",
    "df.shape # shape is an attribute not a method so no \"()\"\n",
    "\n",
    "# info\n",
    "df.info() # info is a method not an attribute so \"()\""
   ]
  },
  {
   "cell_type": "markdown",
   "metadata": {},
   "source": [
    "## **2. DataFrame and Series Basics**"
   ]
  },
  {
   "cell_type": "markdown",
   "metadata": {},
   "source": [
    "### **2.1. DataFrame from a dictionnary**"
   ]
  },
  {
   "cell_type": "code",
   "execution_count": 2,
   "metadata": {},
   "outputs": [],
   "source": [
    "# create dictionnary\n",
    "people = {\"first\": [\"Corey\", \"Jane\", \"John\"], \n",
    "          \"last\": [\"Schafer\", \"Doe\", \"Doe\"], \n",
    "          \"email\": [\"CoreyMSchafer@gmail.com\", \"JaneDoe@gmail.com\", \"JohnDoe@gmail.com\"]}      # keys are columns and data are rows \n",
    "\n",
    "# get values from email key \n",
    "people['email']\n",
    "\n",
    "# create a DataFrame\n",
    "df = pd.DataFrame(people)   # dataframes are similar to this but with other tools\n",
    "\n",
    "# get values from email column \n",
    "df['email']"
   ]
  },
  {
   "cell_type": "markdown",
   "metadata": {},
   "source": [
    "### **2.2 Type of a DataFrame column**"
   ]
  },
  {
   "cell_type": "code",
   "execution_count": null,
   "metadata": {},
   "outputs": [],
   "source": [
    "type(dc['email']) # DataFrame => countainer for multiple series\n",
    "                  # each row is a serie "
   ]
  },
  {
   "cell_type": "markdown",
   "metadata": {},
   "source": [
    "### **2.3. Access columns and rows**"
   ]
  },
  {
   "cell_type": "code",
   "execution_count": null,
   "metadata": {},
   "outputs": [],
   "source": [
    "# One or multiple columns\n",
    "dc['email']              # or dc.email but I prefer []\n",
    "dc[['last','email']]          #Two pairs of brackets if multiple columns !\n",
    "\n",
    "# Locate elements based on labels\n",
    "dc.loc[:,'email']          # all rows for column 'email'\n",
    "\n",
    "# Locate elements based on indexes\n",
    "dc.iloc[:,2]           # all rows for the column 'email'\n",
    "dc.iloc[0, :]          # all columns for the first row\n",
    "dc.loc[[0,1],['email', \"last\"]]            # two first rows and 'email' and 'last' columns (use brackets to get a proper table)\n",
    "\n",
    "# Slicing\n",
    "df.loc[0:2, \"Hobbyist\"] # <=> numpy\n",
    "df.loc[0:2, \"Hobbyist\":\"Employment\"]"
   ]
  },
  {
   "cell_type": "markdown",
   "metadata": {},
   "source": [
    "### **2.5. Get columns names**"
   ]
  },
  {
   "cell_type": "code",
   "execution_count": null,
   "metadata": {},
   "outputs": [],
   "source": [
    "dc.columns"
   ]
  },
  {
   "cell_type": "markdown",
   "metadata": {},
   "source": [
    "### **2.6. DataFrames aggegation methods**"
   ]
  },
  {
   "cell_type": "code",
   "execution_count": null,
   "metadata": {},
   "outputs": [],
   "source": [
    "# count\n",
    "df[['Hobbyist']].count()\n",
    "\n",
    "# values count\n",
    "df[['Hobbyist']].value_counts()     #for each value"
   ]
  },
  {
   "cell_type": "markdown",
   "metadata": {},
   "source": [
    "## **3. Indexes**"
   ]
  },
  {
   "cell_type": "markdown",
   "metadata": {},
   "source": [
    "### **3.1. Set DataFrame index**"
   ]
  },
  {
   "cell_type": "code",
   "execution_count": null,
   "metadata": {},
   "outputs": [],
   "source": [
    "df.set_index('email')    # don't change the df\n",
    "df.set_index('email', inplace=True)     # change the df\n",
    "\n",
    "# Access the index\n",
    "df.index\n",
    "\n",
    "# Reset index\n",
    "df.reset_index(inplace=True)       # reset index (don't forget inplace !)"
   ]
  },
  {
   "cell_type": "markdown",
   "metadata": {},
   "source": [
    "### **3.2. Sort DataFrame indexes**"
   ]
  },
  {
   "cell_type": "code",
   "execution_count": null,
   "metadata": {},
   "outputs": [],
   "source": [
    "schema_df.sort_index(ascending=False).head()\n",
    "\n",
    "schema_df.sort_index(inplace=True) #change apply to the df now"
   ]
  },
  {
   "cell_type": "markdown",
   "metadata": {},
   "source": [
    "## **4. Filtering**"
   ]
  },
  {
   "cell_type": "markdown",
   "metadata": {},
   "source": [
    "### **4.1. Set a Filter**"
   ]
  },
  {
   "cell_type": "code",
   "execution_count": null,
   "metadata": {},
   "outputs": [],
   "source": [
    "# 1st method: set a filt variable\n",
    "filt = df['last'] == 'Doe'     # don't use filter (get python confused)\n",
    "df[filt]\n",
    "\n",
    "# Combinaition with .loc method\n",
    "df.loc[filt,'email']   # also work here for series of Boolean\n",
    "\n",
    "# 2nd method: place directly the filter\n",
    "df[df['last'] == 'Doe'] #more difficult to read"
   ]
  },
  {
   "cell_type": "markdown",
   "metadata": {},
   "source": [
    "### **4.2. And and Or operators**"
   ]
  },
  {
   "cell_type": "code",
   "execution_count": null,
   "metadata": {},
   "outputs": [],
   "source": [
    "# & ==> and \n",
    "# | ==> or\n",
    "\n",
    "filt = (df['last'] == 'Doe') & (df['first'] == 'John')\n",
    "filt = (df['last'] == 'Schafer') | (df['first'] == 'John')"
   ]
  },
  {
   "cell_type": "markdown",
   "metadata": {},
   "source": [
    "#### **4.3. Other filters**"
   ]
  },
  {
   "cell_type": "code",
   "execution_count": null,
   "metadata": {},
   "outputs": [],
   "source": [
    "# > or <\n",
    "high_salary = (df['ConvertedComp'] > 70000)\n",
    "df.loc[high_salary, ['Country', 'LanguageWorkedWith', 'ConvertedComp']]\n",
    "\n",
    "# list of strings\n",
    "countries = ['United States','India','United Kingdom','Germany','Canada']\n",
    "filt = df['Country'].isin(countries)\n",
    "df.loc[filt,'Country']\n",
    "\n",
    "# contains a substring\n",
    "filt = df['LanguageWorkedWith'].str.contains('Python', na=False)\n",
    "df.loc[filt, 'LanguageWorkedWith']"
   ]
  },
  {
   "cell_type": "markdown",
   "metadata": {},
   "source": [
    "## **5. Updating Rows and Columns**"
   ]
  },
  {
   "cell_type": "markdown",
   "metadata": {},
   "source": [
    "### **5.1. Change columns**"
   ]
  },
  {
   "cell_type": "code",
   "execution_count": null,
   "metadata": {},
   "outputs": [],
   "source": [
    "# names \n",
    "df.columns = ['first_name', 'last_name', 'email']\n",
    "df.rename(columns = {\"first_name\":\"first\",\"last_name\":\"last\"}, inplace=True)\n",
    "\n",
    "# uppercase or lowercase\n",
    "df.columns = [x.upper() for x in df.columns]\n",
    "df.columns = [x.lower() for x in df.columns]\n",
    "\n",
    "# replace values\n",
    "df.columns = df.columns.str.replace(\" \",\"_\")"
   ]
  },
  {
   "cell_type": "markdown",
   "metadata": {},
   "source": [
    "### **5.1. Change values**"
   ]
  },
  {
   "cell_type": "code",
   "execution_count": null,
   "metadata": {},
   "outputs": [],
   "source": [
    "# change value\n",
    "df.loc[2] = ['John', 'Smith', \"JohnSmith@gmail.com\"] #with loc!\n",
    "df.loc[2,[\"last\",\"email\"]] = ['Doe', \"JohnDoe@gmail.com\"]\n",
    "df.at[2,\"last\"] = 'Doe' #also works with at\n",
    "\n",
    "# combine with a filter\n",
    "filt = (df['email'] == 'JohnDoe@gmail.com')\n",
    "df.loc[filt,'last'] = 'Smith'\n",
    "df #it works!\n",
    "\n",
    "# uppercase or lowercase\n",
    "df['email'] = df['email'].str.lower()"
   ]
  },
  {
   "cell_type": "markdown",
   "metadata": {},
   "source": [
    "### **5.3. Other methods**"
   ]
  },
  {
   "cell_type": "code",
   "execution_count": null,
   "metadata": {},
   "outputs": [],
   "source": [
    "# different methods \n",
    "# first => apply\n",
    "\n",
    "df['email'].apply(len)\n",
    "df['email'].apply(str.upper)\n",
    "\n",
    "# with a function\n",
    "def update_email(email):\n",
    "    return email.lower()\n",
    "df['email'] = df['email'].apply(update_email)\n",
    "\n",
    "# with a lambda function\n",
    "df['email'] = df['email'].apply(lambda x: x.upper())\n",
    "\n",
    "# apply for all cells\n",
    "df.applymap(len)      # apply len to each cell value with applymap\n",
    "\n",
    "# second method: map method\n",
    "df['first'].map({'Corey':'Chris','Jane':'Mary'})"
   ]
  },
  {
   "cell_type": "markdown",
   "metadata": {},
   "source": [
    "## **6. Add-Remove Rows and Columns**"
   ]
  },
  {
   "cell_type": "code",
   "execution_count": null,
   "metadata": {},
   "outputs": [],
   "source": [
    "# merge columns\n",
    "df['full_name'] = df['first'] + ' ' + df['last']\n",
    "\n",
    "# drop columns \n",
    "df.drop(columns=['first','last'], inplace=True)\n",
    "\n",
    "# drop rows\n",
    "df.drop(index=4)\n",
    "\n",
    "# drow rows according to a condition\n",
    "df.drop(index=df[df['last']== \"Doe\"].index)      # but not esay to read\n",
    "filt = df['last']== \"Doe\"\n",
    "df.drop(index=df[filt].index)             # more easy to read \n",
    "\n",
    "# split columns\n",
    "df['full_name'].str.split(' ', expand=True) #split in columns\n",
    "\n",
    "# add a row\n",
    "df.append({'first':'Tony'}, ignore_index=True)\n",
    "\n",
    "# append a dataframe\n",
    "df = df.append(df2, ignore_index=True, sort=False)"
   ]
  },
  {
   "cell_type": "markdown",
   "metadata": {},
   "source": [
    "## **7. Sorting Data**"
   ]
  },
  {
   "cell_type": "code",
   "execution_count": null,
   "metadata": {},
   "outputs": [],
   "source": [
    "# sort data by one value\n",
    "df.sort_values(by='last', ascending=False)\n",
    "\n",
    "# sort data by multiple values\n",
    "df.sort_values(by=['last','first'], ascending=[False, True])\n",
    "\n",
    "# sort index\n",
    "df.sort_index()\n",
    "\n",
    "# top 10 smallest\n",
    "df.nsmallest(10, 'ConvertedComp')\n",
    "\n",
    "# top 10 largest\n",
    "df.nlargest(10, 'ConvertedComp')"
   ]
  },
  {
   "cell_type": "markdown",
   "metadata": {},
   "source": [
    "## **8. Grouping and Aggregating**"
   ]
  },
  {
   "cell_type": "code",
   "execution_count": null,
   "metadata": {},
   "outputs": [],
   "source": [
    "# median\n",
    "df['ConvertedComp'].median()\n",
    "\n",
    "# describe data\n",
    "df.describe()\n",
    "\n",
    "# count\n",
    "df['ConvertedComp'].count()\n",
    "\n",
    "# value counts\n",
    "df['Hobbyist'].value_counts()\n",
    "\n",
    "# value counts in percentages\n",
    "df['SocialMedia'].value_counts(normalize=True)\n",
    "\n",
    "# group by\n",
    "country_grp = df.groupby(['Country'])    #   create the object \n",
    "country_grp.get_group(\"India\")     #    get a specific group\n",
    "\n",
    "# mixing filtering and aggregates\n",
    "country_grp['SocialMedia'].value_counts().loc['China']\n",
    "\n",
    "# multiple aggregates\n",
    "country_grp['ConvertedComp'].agg(['median', 'mean']).loc['Germany']\n",
    "#agg => to get multiple aggregates\n",
    "\n",
    "# string contains\n",
    "filt = df['Country'] == \"India\"\n",
    "df.loc[filt]['LanguageWorkedWith'].str.contains('Python')\n",
    "\n",
    "# group by, apply and lambda function\n",
    "# with group by\n",
    "# you must use apply method\n",
    "country_grp['LanguageWorkedWith'].apply(lambda x: x.str.contains('Python').sum())\n",
    "\n",
    "# concat dataframes\n",
    "python_df = pd.concat([country_respondents, country_uses_python], axis='columns', sort=False)    #  because by default it will concate in index\n",
    "\n",
    "# rename DataFrame columns\n",
    "python_df.rename(columns= {\"Country\":\"NumRespondents\", \"LanguageWorkedWith\":\"NumKnowsPython\"}, inplace=True)\n",
    "\n",
    "# mathematical operations\n",
    "python_df['PctKnowsPython'] = (python_df['NumKnowsPython']/python_df['NumRespondents']) * 100"
   ]
  },
  {
   "cell_type": "markdown",
   "metadata": {},
   "source": [
    "## **9. Cleaning Data**"
   ]
  },
  {
   "cell_type": "code",
   "execution_count": null,
   "metadata": {},
   "outputs": [],
   "source": [
    "# drop na\n",
    "# missing values in np.nan and None\n",
    "df.dropna()\n",
    "df.dropna(axis='index', how='any')    # default parameters => same result \n",
    "\n",
    "# index => drop each INDEX \n",
    "# how => that contains ANY value \n",
    "\n",
    "# drop na of a subset\n",
    "df.dropna(axis='index', how='all', subset=['last','email'])\n",
    "\n",
    "# Fill missing values with str format\n",
    "df.replace('NA', np.nan, inplace=True)\n",
    "df.replace('Missing', np.nan, inplace=True)\n",
    "\n",
    "# Check na \n",
    "df.isna()\n",
    "\n",
    "# Replace NA values => most relevant for numerical Data \n",
    "df.fillna('MISSING')\n",
    "\n",
    "# check types\n",
    "df.dtypes      # not a method => attribute\n",
    "\n",
    "# change the type\n",
    "df['age'] = df['age'].astype(float)\n",
    "\n",
    "# get all the unique values\n",
    "df['YearsCode'].unique() "
   ]
  },
  {
   "cell_type": "markdown",
   "metadata": {},
   "source": [
    "## **10. Working with Dates and Time Series Data**"
   ]
  },
  {
   "cell_type": "code",
   "execution_count": null,
   "metadata": {},
   "outputs": [],
   "source": [
    "# convert date field into datetime format\n",
    "df['Date'] = pd.to_datetime(df['Date'], format = '%Y-%m-%d %I-%p')\n",
    "# check python documentation : Datetime Formatting Codes\n",
    "\n",
    "# return day name\n",
    "df['Date'].dt.day_name()"
   ]
  },
  {
   "cell_type": "markdown",
   "metadata": {},
   "source": [
    "## **11. Reading and Writing Data to Different Sources**"
   ]
  },
  {
   "cell_type": "code",
   "execution_count": null,
   "metadata": {},
   "outputs": [],
   "source": [
    "# for csv\n",
    "df.to_csv('Data/file.csv')\n",
    "\n",
    "# custom separator\n",
    "df.to_csv('Data/file.csv', sep='\\t')\n",
    "\n",
    "# for excel\n",
    "df.to_excel('Data/file.xlsx')\n",
    "\n",
    "# for json\n",
    "df.to_json('Data/file.json', orient='records', lines=True)\n",
    "# writen like dictionaries by default \n",
    "# we can also pass it by list with orient and lines"
   ]
  }
 ],
 "metadata": {
  "kernelspec": {
   "display_name": "Python 3",
   "language": "python",
   "name": "python3"
  },
  "language_info": {
   "codemirror_mode": {
    "name": "ipython",
    "version": 3
   },
   "file_extension": ".py",
   "mimetype": "text/x-python",
   "name": "python",
   "nbconvert_exporter": "python",
   "pygments_lexer": "ipython3",
   "version": "3.7.4"
  }
 },
 "nbformat": 4,
 "nbformat_minor": 4
}
